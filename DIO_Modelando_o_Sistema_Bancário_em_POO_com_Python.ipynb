{
  "nbformat": 4,
  "nbformat_minor": 0,
  "metadata": {
    "colab": {
      "provenance": []
    },
    "kernelspec": {
      "name": "python3",
      "display_name": "Python 3"
    },
    "language_info": {
      "name": "python"
    }
  },
  "cells": [
    {
      "cell_type": "markdown",
      "source": [
        "# **Programação Orientada a Objetos (POO)**"
      ],
      "metadata": {
        "id": "9osXN4NgT8bw"
      }
    },
    {
      "cell_type": "markdown",
      "source": [
        "A **Programação Orientada a Objetos (POO)**, também conhecida no inglês como *Object Oriented Programming (OOP)*, é um paradigma de programação, uma maneira de organizar código que propõe a ideia de pôr em conjunto as seções do código com dados e comportamentos relacionados, de maneira **encapsulada**. É também uma abordagem poderosa para estruturar softwares para análises e interpretação de grandes volumes de dados.\n",
        "\n",
        "Como o nome do paradigma sugere, esse formato se baseia na criação de **objetos**, que são os representantes de um modelo (ou ideia) que chamamos de classe. Uma **classe**, por sua vez, é uma estrutura que possui atributos (características) e métodos (funções) associados a ela."
      ],
      "metadata": {
        "id": "zGbcMtaOUBnn"
      }
    },
    {
      "cell_type": "markdown",
      "source": [
        "uma **classe** associa dados (**atributos**) e operações (**métodos**) numa só estrutura. Um **objeto é uma instância** de uma classe. Ou seja, uma representação da classe."
      ],
      "metadata": {
        "id": "W9girLxwUXUf"
      }
    },
    {
      "cell_type": "code",
      "source": [
        "# classe\n",
        "class NomeDaClasse:\n",
        "        pass\n",
        "\n",
        "# método (função)\n",
        "def metodo(args):\n",
        "        pass\n",
        "\n",
        "# args são argumentos opcionais (parâmetros de entrada).\n",
        "# A função metodo pode retornar um valor de saída:\n",
        "def metodo(args):\n",
        "        return args\n",
        "\n",
        "# Classe + método:\n",
        "class NomeDaClasse:\n",
        "\n",
        "        def metodo(self, args):\n",
        "                pass"
      ],
      "metadata": {
        "id": "gj3jnPLXVvG3"
      },
      "execution_count": null,
      "outputs": []
    },
    {
      "cell_type": "markdown",
      "source": [
        "**Conta:**"
      ],
      "metadata": {
        "id": "ijQndPOAWoCt"
      }
    },
    {
      "cell_type": "code",
      "execution_count": 1,
      "metadata": {
        "id": "moYM2IE5LB3U"
      },
      "outputs": [],
      "source": [
        "def cria_conta(numero, titular, saldo, limite):\n",
        "    conta = {\"numero\": numero, \"titular\": titular, \"saldo\": saldo, \"limite\": limite}\n",
        "    return conta"
      ]
    },
    {
      "cell_type": "code",
      "source": [
        "conta1 = cria_conta('123-4', 'João', 120.0, 1000.0)\n",
        "conta2 = cria_conta('123-5', 'José', 200.0, 1000.0)"
      ],
      "metadata": {
        "id": "YLXmy3m1N_t1"
      },
      "execution_count": 2,
      "outputs": []
    },
    {
      "cell_type": "code",
      "source": [
        "conta1['numero']"
      ],
      "metadata": {
        "colab": {
          "base_uri": "https://localhost:8080/",
          "height": 36
        },
        "id": "i_RQRXodOFot",
        "outputId": "247f3091-6ed6-4915-cc57-24494b6672d9"
      },
      "execution_count": 4,
      "outputs": [
        {
          "output_type": "execute_result",
          "data": {
            "text/plain": [
              "'123-4'"
            ],
            "application/vnd.google.colaboratory.intrinsic+json": {
              "type": "string"
            }
          },
          "metadata": {},
          "execution_count": 4
        }
      ]
    },
    {
      "cell_type": "code",
      "source": [
        "conta2['numero']"
      ],
      "metadata": {
        "colab": {
          "base_uri": "https://localhost:8080/",
          "height": 36
        },
        "id": "VexW1pDMOPIF",
        "outputId": "cc06759b-6cb1-4d4a-a0d4-8f67f64cd06c"
      },
      "execution_count": 5,
      "outputs": [
        {
          "output_type": "execute_result",
          "data": {
            "text/plain": [
              "'123-5'"
            ],
            "application/vnd.google.colaboratory.intrinsic+json": {
              "type": "string"
            }
          },
          "metadata": {},
          "execution_count": 5
        }
      ]
    },
    {
      "cell_type": "markdown",
      "source": [
        "**Depositar:**"
      ],
      "metadata": {
        "id": "D1C8xPuNWscN"
      }
    },
    {
      "cell_type": "code",
      "source": [
        "def deposita(conta, valor):\n",
        "    conta['saldo'] += valor"
      ],
      "metadata": {
        "id": "Qo2-CiwIOQCk"
      },
      "execution_count": 6,
      "outputs": []
    },
    {
      "cell_type": "markdown",
      "source": [
        "**Sacar:**"
      ],
      "metadata": {
        "id": "7Ar0JDBaXINX"
      }
    },
    {
      "cell_type": "code",
      "source": [
        "def saca(conta, valor):\n",
        "    conta['saldo'] -= valor"
      ],
      "metadata": {
        "id": "Ygx8N8E4XIWr"
      },
      "execution_count": 7,
      "outputs": []
    },
    {
      "cell_type": "markdown",
      "source": [
        "**Extrato:**"
      ],
      "metadata": {
        "id": "GoUAIYUfXQf2"
      }
    },
    {
      "cell_type": "code",
      "source": [
        "def extrato(conta):\n",
        "    print(\"conta nº: {} \\nsaldo: {:,.2f}\".format(conta['numero'], conta['saldo']))"
      ],
      "metadata": {
        "id": "GrGMR-DjXQqn"
      },
      "execution_count": 35,
      "outputs": []
    },
    {
      "cell_type": "markdown",
      "source": [
        "**Imprimir Resultado:**"
      ],
      "metadata": {
        "id": "G0ZWRPI_XQ0_"
      }
    },
    {
      "cell_type": "code",
      "source": [
        "conta = cria_conta('1230-4', 'João da Silva', 1200.0, 1000.0)\n",
        "deposita(conta, 15.0)\n",
        "extrato(conta)"
      ],
      "metadata": {
        "colab": {
          "base_uri": "https://localhost:8080/"
        },
        "id": "xl7mOPOEXQ-g",
        "outputId": "cddcdc25-d2ee-4d6c-fcd4-b458e6909c41"
      },
      "execution_count": 36,
      "outputs": [
        {
          "output_type": "stream",
          "name": "stdout",
          "text": [
            "conta nº: 1230-4 \n",
            "saldo: 1,215.00\n"
          ]
        }
      ]
    }
  ]
}